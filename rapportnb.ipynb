{
 "cells": [
  {
   "cell_type": "markdown",
   "id": "d205904a-757b-4346-9a87-b149fd0a3a7d",
   "metadata": {},
   "source": [
    "# Projet: Prédiction de prix de l'électricité"
   ]
  },
  {
   "cell_type": "markdown",
   "id": "e215e508-7504-493f-9c94-d8263bc88a31",
   "metadata": {},
   "source": [
    "## Auteur: Paul COFFI"
   ]
  },
  {
   "cell_type": "markdown",
   "id": "35a49a8a-f6de-4f1e-9319-aedec347183f",
   "metadata": {},
   "source": [
    "### **Contexte**\n",
    "\n",
    "Dans le cadre de l’activité de valorisation de l’énergie sur les marchés de l’électricité, Elmy aimerait disposer d’un modèle de prévision permettant de juger en amont si les prix de l’électricité sur le marché SPOT (marché d’enchère européen permettant d’acheter de l’électricité la veille pour le lendemain) seront plus ou moins élevés que les prix de l’électricité sur le marché Intraday (marché boursier européen permettant d’acheter de l’électricité le jour même)."
   ]
  },
  {
   "cell_type": "markdown",
   "id": "c7de539f-e9d3-4b0c-84ec-bb74a931bfbb",
   "metadata": {},
   "source": [
    "### **But**\n",
    "\n",
    "L’exercice consiste en la modélisation supervisée de l'écart de prix entre le marché infra-journalier (dit \"Intraday\") et le marché SPOT. L'écart de prix peut être modélisé par une régression mais aussi par une classification car ce qui importe avant tout est de prédire correctement le sens de cet écart (si tel ou tel prix sera supérieur ou inférieur à l’autre)."
   ]
  },
  {
   "cell_type": "markdown",
   "id": "a2434ef2-6ce8-44c6-839c-e92b2fa04c16",
   "metadata": {},
   "source": [
    "### **Description des données**\n",
    "\n",
    "Index\n",
    "DELIVERY_START : date et heure de livraison de l'électricité\n",
    "\n",
    "Variables explicatives\n",
    "load_forecast : prévision de consommation totale d'éléctricité en France\n",
    "coal_power_available, gas_power_available, nucelear_power_available : capacité de production totale d'électricité des centrales à charbon, gaz et nucléaire respectivement,\n",
    "wind_power_forecasts_average, solar_power_forecasts_average : moyenne de différentes prévisions de production totale d'électricité éolienne et solaire (respectivement),\n",
    "wind_power_forecasts_std, solar_power_forecasts_std : écart-type de ces mêmes prévisions,\n",
    "predicted_spot_price : prévision du prix SPOT de l'électricité issues d'un modèle interne de Elmy. Ce modèle est lancé chaque jour avant la fermeture des enchères SPOT pour le lendemain.\n",
    "\n",
    "Variable cible\n",
    "spot_id_delta : l'écart entre le VWAP des transactions sur le marché infra-journalier (Intraday) et le prix SPOT pour 1MWh d'électricité (spot_id_delta = Intraday - SPOT) : si la valeur est positive, le prix Intraday est supérieur au prix SPOT et inversement.\n",
    "\n",
    "On va introduire deux nouvelles d'intération entre les variables wind_power_forecasts_average et wind_power_forecasts_std d'une part, et les variables solar_powar_forecasts_average et solar_powar_forecasts_std d'autre part.\n",
    "\n",
    "Typiquement cette valeur devrait etre proche de 0 dans le cas où l'incertitude des prédictions est moindre."
   ]
  },
  {
   "cell_type": "markdown",
   "id": "0959549a-06e5-40fb-b46e-3722dc066593",
   "metadata": {},
   "source": [
    "## 1. Analyse exploratoire et préparation des données"
   ]
  },
  {
   "cell_type": "markdown",
   "id": "bd286885-a296-4dc2-b089-62856cf5b00b",
   "metadata": {},
   "source": [
    "---------------Description du boosting blablabla----------------------"
   ]
  },
  {
   "cell_type": "markdown",
   "id": "2a0399b1-129d-4a4d-9de9-a60e6df87286",
   "metadata": {},
   "source": [
    "### 1.1 Analyse exploratoire"
   ]
  },
  {
   "cell_type": "code",
   "execution_count": 51,
   "id": "38265e4d-370d-4a1d-ae0b-a4f553bc9478",
   "metadata": {},
   "outputs": [],
   "source": [
    "import numpy as np\n",
    "import pandas as pd"
   ]
  },
  {
   "cell_type": "code",
   "execution_count": 11,
   "id": "cfb60a45-d32a-48f1-9e01-5a917e1fba70",
   "metadata": {},
   "outputs": [
    {
     "name": "stdout",
     "output_type": "stream",
     "text": [
      "/home/paul\n"
     ]
    }
   ],
   "source": [
    "import os\n",
    "print(os.getcwd())\n"
   ]
  },
  {
   "cell_type": "code",
   "execution_count": 53,
   "id": "530a203f-b860-4e2e-94f6-2f141a6ec375",
   "metadata": {},
   "outputs": [],
   "source": [
    "X= pd.read_csv('/home/paul/Downloads/X_train.csv')\n",
    "y= pd.read_csv('/home/paul/Downloads/y_train.csv')\n",
    "\n",
    "X['interaction 1']= X['wind_power_forecasts_average']*X['wind_power_forecasts_std']\n",
    "X['interaction 2']= X['solar_power_forecasts_average']*X['solar_power_forecasts_std']"
   ]
  },
  {
   "cell_type": "markdown",
   "id": "bf561d44-426d-41ca-a07b-517316e54396",
   "metadata": {},
   "source": [
    "**Apercu de X**"
   ]
  },
  {
   "cell_type": "code",
   "execution_count": 14,
   "id": "8aaea5fd-38b4-4c4d-81a6-7312e6936dee",
   "metadata": {},
   "outputs": [
    {
     "name": "stdout",
     "output_type": "stream",
     "text": [
      "              DELIVERY_START  load_forecast  coal_power_available  \\\n",
      "0  2022-01-01 02:00:00+01:00        49439.0                3386.0   \n",
      "1  2022-01-01 03:00:00+01:00        46511.0                3386.0   \n",
      "2  2022-01-01 04:00:00+01:00        45158.0                3386.0   \n",
      "3  2022-01-01 05:00:00+01:00        44779.0                3386.0   \n",
      "4  2022-01-01 06:00:00+01:00        45284.0                3386.0   \n",
      "\n",
      "   gas_power_available  nucelear_power_available  \\\n",
      "0              11487.0                   44118.0   \n",
      "1              11487.0                   44118.0   \n",
      "2              11487.0                   44118.0   \n",
      "3              11487.0                   44118.0   \n",
      "4              11487.0                   44118.0   \n",
      "\n",
      "   wind_power_forecasts_average  solar_power_forecasts_average  \\\n",
      "0                        3035.0                            0.0   \n",
      "1                        3143.0                            0.0   \n",
      "2                        3288.0                            0.0   \n",
      "3                        3447.0                            0.0   \n",
      "4                        3679.0                            0.0   \n",
      "\n",
      "   wind_power_forecasts_std  solar_power_forecasts_std  predicted_spot_price  \\\n",
      "0                 79.248348                        0.0                   NaN   \n",
      "1                 61.776532                        0.0                   NaN   \n",
      "2                 44.291112                        0.0                   NaN   \n",
      "3                 36.127588                        0.0                   NaN   \n",
      "4                 30.983023                        0.0                   NaN   \n",
      "\n",
      "   interaction 1  interaction 2  \n",
      "0  240518.736043            0.0  \n",
      "1  194163.639143            0.0  \n",
      "2  145629.176708            0.0  \n",
      "3  124531.795821            0.0  \n",
      "4  113986.541510            0.0  \n"
     ]
    }
   ],
   "source": [
    "print(X.head(5))"
   ]
  },
  {
   "cell_type": "code",
   "execution_count": 15,
   "id": "26c79dd9-391b-444a-8b21-271e8ca7fadf",
   "metadata": {},
   "outputs": [
    {
     "name": "stdout",
     "output_type": "stream",
     "text": [
      "              DELIVERY_START  spot_id_delta\n",
      "0  2022-01-01 02:00:00+01:00     -36.874770\n",
      "1  2022-01-01 03:00:00+01:00     -12.643588\n",
      "2  2022-01-01 04:00:00+01:00      -1.950193\n",
      "3  2022-01-01 05:00:00+01:00       1.938272\n",
      "4  2022-01-01 06:00:00+01:00       0.199907\n"
     ]
    }
   ],
   "source": [
    "print(y.head(5))"
   ]
  },
  {
   "cell_type": "markdown",
   "id": "520296a0-c8f5-4026-93ff-dfe9a48ab578",
   "metadata": {},
   "source": [
    "**Statistique de X**"
   ]
  },
  {
   "cell_type": "code",
   "execution_count": 17,
   "id": "d01beed4-dc5f-4e38-89d5-a4db3a8fb16d",
   "metadata": {},
   "outputs": [
    {
     "data": {
      "text/html": [
       "<div>\n",
       "<style scoped>\n",
       "    .dataframe tbody tr th:only-of-type {\n",
       "        vertical-align: middle;\n",
       "    }\n",
       "\n",
       "    .dataframe tbody tr th {\n",
       "        vertical-align: top;\n",
       "    }\n",
       "\n",
       "    .dataframe thead th {\n",
       "        text-align: right;\n",
       "    }\n",
       "</style>\n",
       "<table border=\"1\" class=\"dataframe\">\n",
       "  <thead>\n",
       "    <tr style=\"text-align: right;\">\n",
       "      <th></th>\n",
       "      <th>load_forecast</th>\n",
       "      <th>coal_power_available</th>\n",
       "      <th>gas_power_available</th>\n",
       "      <th>nucelear_power_available</th>\n",
       "      <th>wind_power_forecasts_average</th>\n",
       "      <th>solar_power_forecasts_average</th>\n",
       "      <th>wind_power_forecasts_std</th>\n",
       "      <th>solar_power_forecasts_std</th>\n",
       "      <th>predicted_spot_price</th>\n",
       "      <th>interaction 1</th>\n",
       "      <th>interaction 2</th>\n",
       "    </tr>\n",
       "  </thead>\n",
       "  <tbody>\n",
       "    <tr>\n",
       "      <th>count</th>\n",
       "      <td>9318.000000</td>\n",
       "      <td>10604.000000</td>\n",
       "      <td>10604.000000</td>\n",
       "      <td>10604.000000</td>\n",
       "      <td>10581.000000</td>\n",
       "      <td>10581.000000</td>\n",
       "      <td>10581.000000</td>\n",
       "      <td>10581.000000</td>\n",
       "      <td>1846.000000</td>\n",
       "      <td>1.058100e+04</td>\n",
       "      <td>1.058100e+04</td>\n",
       "    </tr>\n",
       "    <tr>\n",
       "      <th>mean</th>\n",
       "      <td>53725.132968</td>\n",
       "      <td>2819.781592</td>\n",
       "      <td>11463.220671</td>\n",
       "      <td>35393.282252</td>\n",
       "      <td>4512.989415</td>\n",
       "      <td>1919.281353</td>\n",
       "      <td>125.399422</td>\n",
       "      <td>24.997384</td>\n",
       "      <td>140.256024</td>\n",
       "      <td>7.187162e+05</td>\n",
       "      <td>1.215796e+05</td>\n",
       "    </tr>\n",
       "    <tr>\n",
       "      <th>std</th>\n",
       "      <td>11274.194929</td>\n",
       "      <td>495.103588</td>\n",
       "      <td>483.799154</td>\n",
       "      <td>7619.820162</td>\n",
       "      <td>3349.419356</td>\n",
       "      <td>2706.963383</td>\n",
       "      <td>132.152875</td>\n",
       "      <td>43.083977</td>\n",
       "      <td>33.922669</td>\n",
       "      <td>1.216081e+06</td>\n",
       "      <td>2.550346e+05</td>\n",
       "    </tr>\n",
       "    <tr>\n",
       "      <th>min</th>\n",
       "      <td>30515.000000</td>\n",
       "      <td>1646.000000</td>\n",
       "      <td>9769.000000</td>\n",
       "      <td>22285.000000</td>\n",
       "      <td>592.000000</td>\n",
       "      <td>0.000000</td>\n",
       "      <td>1.830211</td>\n",
       "      <td>0.000000</td>\n",
       "      <td>42.420000</td>\n",
       "      <td>1.385470e+03</td>\n",
       "      <td>0.000000e+00</td>\n",
       "    </tr>\n",
       "    <tr>\n",
       "      <th>25%</th>\n",
       "      <td>45336.500000</td>\n",
       "      <td>2226.000000</td>\n",
       "      <td>11140.000000</td>\n",
       "      <td>29005.000000</td>\n",
       "      <td>2036.000000</td>\n",
       "      <td>0.000000</td>\n",
       "      <td>46.818974</td>\n",
       "      <td>0.000000</td>\n",
       "      <td>119.405000</td>\n",
       "      <td>1.175034e+05</td>\n",
       "      <td>0.000000e+00</td>\n",
       "    </tr>\n",
       "    <tr>\n",
       "      <th>50%</th>\n",
       "      <td>51846.000000</td>\n",
       "      <td>2806.000000</td>\n",
       "      <td>11487.000000</td>\n",
       "      <td>32470.000000</td>\n",
       "      <td>3319.000000</td>\n",
       "      <td>149.000000</td>\n",
       "      <td>86.700163</td>\n",
       "      <td>3.507229</td>\n",
       "      <td>140.040000</td>\n",
       "      <td>3.119216e+05</td>\n",
       "      <td>5.346797e+02</td>\n",
       "    </tr>\n",
       "    <tr>\n",
       "      <th>75%</th>\n",
       "      <td>62091.750000</td>\n",
       "      <td>3386.000000</td>\n",
       "      <td>11945.000000</td>\n",
       "      <td>43055.000000</td>\n",
       "      <td>5951.000000</td>\n",
       "      <td>3507.000000</td>\n",
       "      <td>155.325644</td>\n",
       "      <td>35.137019</td>\n",
       "      <td>160.765000</td>\n",
       "      <td>7.868249e+05</td>\n",
       "      <td>1.335936e+05</td>\n",
       "    </tr>\n",
       "    <tr>\n",
       "      <th>max</th>\n",
       "      <td>85145.000000</td>\n",
       "      <td>3391.000000</td>\n",
       "      <td>11963.000000</td>\n",
       "      <td>50122.000000</td>\n",
       "      <td>15167.000000</td>\n",
       "      <td>10127.000000</td>\n",
       "      <td>1871.571992</td>\n",
       "      <td>745.261316</td>\n",
       "      <td>254.190000</td>\n",
       "      <td>2.093560e+07</td>\n",
       "      <td>4.499143e+06</td>\n",
       "    </tr>\n",
       "  </tbody>\n",
       "</table>\n",
       "</div>"
      ],
      "text/plain": [
       "       load_forecast  coal_power_available  gas_power_available  \\\n",
       "count    9318.000000          10604.000000         10604.000000   \n",
       "mean    53725.132968           2819.781592         11463.220671   \n",
       "std     11274.194929            495.103588           483.799154   \n",
       "min     30515.000000           1646.000000          9769.000000   \n",
       "25%     45336.500000           2226.000000         11140.000000   \n",
       "50%     51846.000000           2806.000000         11487.000000   \n",
       "75%     62091.750000           3386.000000         11945.000000   \n",
       "max     85145.000000           3391.000000         11963.000000   \n",
       "\n",
       "       nucelear_power_available  wind_power_forecasts_average  \\\n",
       "count              10604.000000                  10581.000000   \n",
       "mean               35393.282252                   4512.989415   \n",
       "std                 7619.820162                   3349.419356   \n",
       "min                22285.000000                    592.000000   \n",
       "25%                29005.000000                   2036.000000   \n",
       "50%                32470.000000                   3319.000000   \n",
       "75%                43055.000000                   5951.000000   \n",
       "max                50122.000000                  15167.000000   \n",
       "\n",
       "       solar_power_forecasts_average  wind_power_forecasts_std  \\\n",
       "count                   10581.000000              10581.000000   \n",
       "mean                     1919.281353                125.399422   \n",
       "std                      2706.963383                132.152875   \n",
       "min                         0.000000                  1.830211   \n",
       "25%                         0.000000                 46.818974   \n",
       "50%                       149.000000                 86.700163   \n",
       "75%                      3507.000000                155.325644   \n",
       "max                     10127.000000               1871.571992   \n",
       "\n",
       "       solar_power_forecasts_std  predicted_spot_price  interaction 1  \\\n",
       "count               10581.000000           1846.000000   1.058100e+04   \n",
       "mean                   24.997384            140.256024   7.187162e+05   \n",
       "std                    43.083977             33.922669   1.216081e+06   \n",
       "min                     0.000000             42.420000   1.385470e+03   \n",
       "25%                     0.000000            119.405000   1.175034e+05   \n",
       "50%                     3.507229            140.040000   3.119216e+05   \n",
       "75%                    35.137019            160.765000   7.868249e+05   \n",
       "max                   745.261316            254.190000   2.093560e+07   \n",
       "\n",
       "       interaction 2  \n",
       "count   1.058100e+04  \n",
       "mean    1.215796e+05  \n",
       "std     2.550346e+05  \n",
       "min     0.000000e+00  \n",
       "25%     0.000000e+00  \n",
       "50%     5.346797e+02  \n",
       "75%     1.335936e+05  \n",
       "max     4.499143e+06  "
      ]
     },
     "execution_count": 17,
     "metadata": {},
     "output_type": "execute_result"
    }
   ],
   "source": [
    "X.describe()"
   ]
  },
  {
   "cell_type": "markdown",
   "id": "b1762d5a-5e96-4381-a301-a64525247fec",
   "metadata": {},
   "source": [
    "**Statistique de y**"
   ]
  },
  {
   "cell_type": "code",
   "execution_count": null,
   "id": "bd826984-cd28-4b72-85c3-edd155f0fae8",
   "metadata": {},
   "outputs": [],
   "source": [
    "y.describe()"
   ]
  },
  {
   "cell_type": "code",
   "execution_count": null,
   "id": "2b4858c3-eb00-454b-9850-0b97de38eebc",
   "metadata": {},
   "outputs": [],
   "source": [
    "**Données manquantes**"
   ]
  },
  {
   "cell_type": "code",
   "execution_count": null,
   "id": "24bb25ff-85de-41de-b9d3-c40ab3a1a2da",
   "metadata": {},
   "outputs": [],
   "source": [
    "X.isnull().sum()/len(X)"
   ]
  },
  {
   "cell_type": "markdown",
   "id": "d7ea726c-dd9b-4fb8-af54-94f60f1f47f3",
   "metadata": {},
   "source": [
    "On remarque que la variable **predicted_spot_price** a énormément de valeurs manquantes, de ce fait une simple imputation ne sera pas pertinente.\n",
    "\n",
    "Dans la suite, une analyse des corrélations linéaires entre les différentes variables explicatives nous montrera qu'il existe une forte corrélation entre la variable **predicted_spot_price** et la variable **load_forecast** et une corrélation modérée entre la variable **predicted_spot_price** et **la variable nucelear_power_available** : L'imputation des valeurs manquantes se fera donc par une simple régression entre la variable **load_forecast** qui contient 12% de valeurs manquantes, la variable **predicted_spot_price** et la variable **nucelear_power_available**.\n",
    "\n",
    "La variable **load_forecast** étant aussi fortement corrélée à la variable **nucelear_power_available** et modéremment corrélée aux variables **coal_power_available** et **gas_power_available**, l'imputation des valeurs manquantes se fera par une régression avec toutes les autres variables du modèle.\n",
    "\n",
    "Le reste des valeurs manquantes sera imputée en remplacée par la médiane."
   ]
  },
  {
   "cell_type": "markdown",
   "id": "aa5b16d4-15f7-4464-9728-24613410239d",
   "metadata": {},
   "source": [
    "**Coefficient de corrélation**"
   ]
  },
  {
   "cell_type": "code",
   "execution_count": 55,
   "id": "d3e062f5-ffc9-49db-8215-02c4b2d84503",
   "metadata": {},
   "outputs": [],
   "source": [
    "X['DELIVERY_START']= pd.to_datetime(X['DELIVERY_START'], utc= True) ## On transforme la colonne delivery_start en une variable temporelle"
   ]
  },
  {
   "cell_type": "code",
   "execution_count": 57,
   "id": "44e2afe7-0939-4e4a-9eba-1e0c0a866908",
   "metadata": {},
   "outputs": [
    {
     "data": {
      "text/html": [
       "<div>\n",
       "<style scoped>\n",
       "    .dataframe tbody tr th:only-of-type {\n",
       "        vertical-align: middle;\n",
       "    }\n",
       "\n",
       "    .dataframe tbody tr th {\n",
       "        vertical-align: top;\n",
       "    }\n",
       "\n",
       "    .dataframe thead th {\n",
       "        text-align: right;\n",
       "    }\n",
       "</style>\n",
       "<table border=\"1\" class=\"dataframe\">\n",
       "  <thead>\n",
       "    <tr style=\"text-align: right;\">\n",
       "      <th></th>\n",
       "      <th>DELIVERY_START</th>\n",
       "      <th>load_forecast</th>\n",
       "      <th>coal_power_available</th>\n",
       "      <th>gas_power_available</th>\n",
       "      <th>nucelear_power_available</th>\n",
       "      <th>wind_power_forecasts_average</th>\n",
       "      <th>solar_power_forecasts_average</th>\n",
       "      <th>wind_power_forecasts_std</th>\n",
       "      <th>solar_power_forecasts_std</th>\n",
       "      <th>predicted_spot_price</th>\n",
       "      <th>interaction 1</th>\n",
       "      <th>interaction 2</th>\n",
       "    </tr>\n",
       "  </thead>\n",
       "  <tbody>\n",
       "    <tr>\n",
       "      <th>DELIVERY_START</th>\n",
       "      <td>1.000000</td>\n",
       "      <td>-0.073289</td>\n",
       "      <td>0.119729</td>\n",
       "      <td>0.346905</td>\n",
       "      <td>-0.013171</td>\n",
       "      <td>0.192387</td>\n",
       "      <td>-0.044751</td>\n",
       "      <td>0.088182</td>\n",
       "      <td>-0.015748</td>\n",
       "      <td>-0.246208</td>\n",
       "      <td>0.137580</td>\n",
       "      <td>-0.020906</td>\n",
       "    </tr>\n",
       "    <tr>\n",
       "      <th>load_forecast</th>\n",
       "      <td>-0.073289</td>\n",
       "      <td>1.000000</td>\n",
       "      <td>0.592586</td>\n",
       "      <td>0.487420</td>\n",
       "      <td>0.790554</td>\n",
       "      <td>0.056690</td>\n",
       "      <td>-0.002045</td>\n",
       "      <td>0.007775</td>\n",
       "      <td>0.028725</td>\n",
       "      <td>0.848274</td>\n",
       "      <td>0.035672</td>\n",
       "      <td>-0.016672</td>\n",
       "    </tr>\n",
       "    <tr>\n",
       "      <th>coal_power_available</th>\n",
       "      <td>0.119729</td>\n",
       "      <td>0.592586</td>\n",
       "      <td>1.000000</td>\n",
       "      <td>0.675499</td>\n",
       "      <td>0.773393</td>\n",
       "      <td>0.314780</td>\n",
       "      <td>-0.195945</td>\n",
       "      <td>0.110731</td>\n",
       "      <td>-0.058685</td>\n",
       "      <td>-0.136735</td>\n",
       "      <td>0.180282</td>\n",
       "      <td>-0.110604</td>\n",
       "    </tr>\n",
       "    <tr>\n",
       "      <th>gas_power_available</th>\n",
       "      <td>0.346905</td>\n",
       "      <td>0.487420</td>\n",
       "      <td>0.675499</td>\n",
       "      <td>1.000000</td>\n",
       "      <td>0.608884</td>\n",
       "      <td>0.374664</td>\n",
       "      <td>-0.220792</td>\n",
       "      <td>0.151959</td>\n",
       "      <td>-0.081660</td>\n",
       "      <td>0.129213</td>\n",
       "      <td>0.232216</td>\n",
       "      <td>-0.142336</td>\n",
       "    </tr>\n",
       "    <tr>\n",
       "      <th>nucelear_power_available</th>\n",
       "      <td>-0.013171</td>\n",
       "      <td>0.790554</td>\n",
       "      <td>0.773393</td>\n",
       "      <td>0.608884</td>\n",
       "      <td>1.000000</td>\n",
       "      <td>0.293377</td>\n",
       "      <td>-0.227825</td>\n",
       "      <td>0.090656</td>\n",
       "      <td>-0.110182</td>\n",
       "      <td>0.306091</td>\n",
       "      <td>0.161656</td>\n",
       "      <td>-0.163918</td>\n",
       "    </tr>\n",
       "    <tr>\n",
       "      <th>wind_power_forecasts_average</th>\n",
       "      <td>0.192387</td>\n",
       "      <td>0.056690</td>\n",
       "      <td>0.314780</td>\n",
       "      <td>0.374664</td>\n",
       "      <td>0.293377</td>\n",
       "      <td>1.000000</td>\n",
       "      <td>-0.207682</td>\n",
       "      <td>0.345215</td>\n",
       "      <td>-0.099868</td>\n",
       "      <td>-0.399666</td>\n",
       "      <td>0.565824</td>\n",
       "      <td>-0.141941</td>\n",
       "    </tr>\n",
       "    <tr>\n",
       "      <th>solar_power_forecasts_average</th>\n",
       "      <td>-0.044751</td>\n",
       "      <td>-0.002045</td>\n",
       "      <td>-0.195945</td>\n",
       "      <td>-0.220792</td>\n",
       "      <td>-0.227825</td>\n",
       "      <td>-0.207682</td>\n",
       "      <td>1.000000</td>\n",
       "      <td>-0.110381</td>\n",
       "      <td>0.631155</td>\n",
       "      <td>-0.034166</td>\n",
       "      <td>-0.122702</td>\n",
       "      <td>0.712238</td>\n",
       "    </tr>\n",
       "    <tr>\n",
       "      <th>wind_power_forecasts_std</th>\n",
       "      <td>0.088182</td>\n",
       "      <td>0.007775</td>\n",
       "      <td>0.110731</td>\n",
       "      <td>0.151959</td>\n",
       "      <td>0.090656</td>\n",
       "      <td>0.345215</td>\n",
       "      <td>-0.110381</td>\n",
       "      <td>1.000000</td>\n",
       "      <td>0.011466</td>\n",
       "      <td>0.018240</td>\n",
       "      <td>0.896010</td>\n",
       "      <td>-0.036585</td>\n",
       "    </tr>\n",
       "    <tr>\n",
       "      <th>solar_power_forecasts_std</th>\n",
       "      <td>-0.015748</td>\n",
       "      <td>0.028725</td>\n",
       "      <td>-0.058685</td>\n",
       "      <td>-0.081660</td>\n",
       "      <td>-0.110182</td>\n",
       "      <td>-0.099868</td>\n",
       "      <td>0.631155</td>\n",
       "      <td>0.011466</td>\n",
       "      <td>1.000000</td>\n",
       "      <td>-0.047489</td>\n",
       "      <td>-0.020849</td>\n",
       "      <td>0.926316</td>\n",
       "    </tr>\n",
       "    <tr>\n",
       "      <th>predicted_spot_price</th>\n",
       "      <td>-0.246208</td>\n",
       "      <td>0.848274</td>\n",
       "      <td>-0.136735</td>\n",
       "      <td>0.129213</td>\n",
       "      <td>0.306091</td>\n",
       "      <td>-0.399666</td>\n",
       "      <td>-0.034166</td>\n",
       "      <td>0.018240</td>\n",
       "      <td>-0.047489</td>\n",
       "      <td>1.000000</td>\n",
       "      <td>-0.120688</td>\n",
       "      <td>-0.080565</td>\n",
       "    </tr>\n",
       "    <tr>\n",
       "      <th>interaction 1</th>\n",
       "      <td>0.137580</td>\n",
       "      <td>0.035672</td>\n",
       "      <td>0.180282</td>\n",
       "      <td>0.232216</td>\n",
       "      <td>0.161656</td>\n",
       "      <td>0.565824</td>\n",
       "      <td>-0.122702</td>\n",
       "      <td>0.896010</td>\n",
       "      <td>-0.020849</td>\n",
       "      <td>-0.120688</td>\n",
       "      <td>1.000000</td>\n",
       "      <td>-0.062603</td>\n",
       "    </tr>\n",
       "    <tr>\n",
       "      <th>interaction 2</th>\n",
       "      <td>-0.020906</td>\n",
       "      <td>-0.016672</td>\n",
       "      <td>-0.110604</td>\n",
       "      <td>-0.142336</td>\n",
       "      <td>-0.163918</td>\n",
       "      <td>-0.141941</td>\n",
       "      <td>0.712238</td>\n",
       "      <td>-0.036585</td>\n",
       "      <td>0.926316</td>\n",
       "      <td>-0.080565</td>\n",
       "      <td>-0.062603</td>\n",
       "      <td>1.000000</td>\n",
       "    </tr>\n",
       "  </tbody>\n",
       "</table>\n",
       "</div>"
      ],
      "text/plain": [
       "                               DELIVERY_START  load_forecast  \\\n",
       "DELIVERY_START                       1.000000      -0.073289   \n",
       "load_forecast                       -0.073289       1.000000   \n",
       "coal_power_available                 0.119729       0.592586   \n",
       "gas_power_available                  0.346905       0.487420   \n",
       "nucelear_power_available            -0.013171       0.790554   \n",
       "wind_power_forecasts_average         0.192387       0.056690   \n",
       "solar_power_forecasts_average       -0.044751      -0.002045   \n",
       "wind_power_forecasts_std             0.088182       0.007775   \n",
       "solar_power_forecasts_std           -0.015748       0.028725   \n",
       "predicted_spot_price                -0.246208       0.848274   \n",
       "interaction 1                        0.137580       0.035672   \n",
       "interaction 2                       -0.020906      -0.016672   \n",
       "\n",
       "                               coal_power_available  gas_power_available  \\\n",
       "DELIVERY_START                             0.119729             0.346905   \n",
       "load_forecast                              0.592586             0.487420   \n",
       "coal_power_available                       1.000000             0.675499   \n",
       "gas_power_available                        0.675499             1.000000   \n",
       "nucelear_power_available                   0.773393             0.608884   \n",
       "wind_power_forecasts_average               0.314780             0.374664   \n",
       "solar_power_forecasts_average             -0.195945            -0.220792   \n",
       "wind_power_forecasts_std                   0.110731             0.151959   \n",
       "solar_power_forecasts_std                 -0.058685            -0.081660   \n",
       "predicted_spot_price                      -0.136735             0.129213   \n",
       "interaction 1                              0.180282             0.232216   \n",
       "interaction 2                             -0.110604            -0.142336   \n",
       "\n",
       "                               nucelear_power_available  \\\n",
       "DELIVERY_START                                -0.013171   \n",
       "load_forecast                                  0.790554   \n",
       "coal_power_available                           0.773393   \n",
       "gas_power_available                            0.608884   \n",
       "nucelear_power_available                       1.000000   \n",
       "wind_power_forecasts_average                   0.293377   \n",
       "solar_power_forecasts_average                 -0.227825   \n",
       "wind_power_forecasts_std                       0.090656   \n",
       "solar_power_forecasts_std                     -0.110182   \n",
       "predicted_spot_price                           0.306091   \n",
       "interaction 1                                  0.161656   \n",
       "interaction 2                                 -0.163918   \n",
       "\n",
       "                               wind_power_forecasts_average  \\\n",
       "DELIVERY_START                                     0.192387   \n",
       "load_forecast                                      0.056690   \n",
       "coal_power_available                               0.314780   \n",
       "gas_power_available                                0.374664   \n",
       "nucelear_power_available                           0.293377   \n",
       "wind_power_forecasts_average                       1.000000   \n",
       "solar_power_forecasts_average                     -0.207682   \n",
       "wind_power_forecasts_std                           0.345215   \n",
       "solar_power_forecasts_std                         -0.099868   \n",
       "predicted_spot_price                              -0.399666   \n",
       "interaction 1                                      0.565824   \n",
       "interaction 2                                     -0.141941   \n",
       "\n",
       "                               solar_power_forecasts_average  \\\n",
       "DELIVERY_START                                     -0.044751   \n",
       "load_forecast                                      -0.002045   \n",
       "coal_power_available                               -0.195945   \n",
       "gas_power_available                                -0.220792   \n",
       "nucelear_power_available                           -0.227825   \n",
       "wind_power_forecasts_average                       -0.207682   \n",
       "solar_power_forecasts_average                       1.000000   \n",
       "wind_power_forecasts_std                           -0.110381   \n",
       "solar_power_forecasts_std                           0.631155   \n",
       "predicted_spot_price                               -0.034166   \n",
       "interaction 1                                      -0.122702   \n",
       "interaction 2                                       0.712238   \n",
       "\n",
       "                               wind_power_forecasts_std  \\\n",
       "DELIVERY_START                                 0.088182   \n",
       "load_forecast                                  0.007775   \n",
       "coal_power_available                           0.110731   \n",
       "gas_power_available                            0.151959   \n",
       "nucelear_power_available                       0.090656   \n",
       "wind_power_forecasts_average                   0.345215   \n",
       "solar_power_forecasts_average                 -0.110381   \n",
       "wind_power_forecasts_std                       1.000000   \n",
       "solar_power_forecasts_std                      0.011466   \n",
       "predicted_spot_price                           0.018240   \n",
       "interaction 1                                  0.896010   \n",
       "interaction 2                                 -0.036585   \n",
       "\n",
       "                               solar_power_forecasts_std  \\\n",
       "DELIVERY_START                                 -0.015748   \n",
       "load_forecast                                   0.028725   \n",
       "coal_power_available                           -0.058685   \n",
       "gas_power_available                            -0.081660   \n",
       "nucelear_power_available                       -0.110182   \n",
       "wind_power_forecasts_average                   -0.099868   \n",
       "solar_power_forecasts_average                   0.631155   \n",
       "wind_power_forecasts_std                        0.011466   \n",
       "solar_power_forecasts_std                       1.000000   \n",
       "predicted_spot_price                           -0.047489   \n",
       "interaction 1                                  -0.020849   \n",
       "interaction 2                                   0.926316   \n",
       "\n",
       "                               predicted_spot_price  interaction 1  \\\n",
       "DELIVERY_START                            -0.246208       0.137580   \n",
       "load_forecast                              0.848274       0.035672   \n",
       "coal_power_available                      -0.136735       0.180282   \n",
       "gas_power_available                        0.129213       0.232216   \n",
       "nucelear_power_available                   0.306091       0.161656   \n",
       "wind_power_forecasts_average              -0.399666       0.565824   \n",
       "solar_power_forecasts_average             -0.034166      -0.122702   \n",
       "wind_power_forecasts_std                   0.018240       0.896010   \n",
       "solar_power_forecasts_std                 -0.047489      -0.020849   \n",
       "predicted_spot_price                       1.000000      -0.120688   \n",
       "interaction 1                             -0.120688       1.000000   \n",
       "interaction 2                             -0.080565      -0.062603   \n",
       "\n",
       "                               interaction 2  \n",
       "DELIVERY_START                     -0.020906  \n",
       "load_forecast                      -0.016672  \n",
       "coal_power_available               -0.110604  \n",
       "gas_power_available                -0.142336  \n",
       "nucelear_power_available           -0.163918  \n",
       "wind_power_forecasts_average       -0.141941  \n",
       "solar_power_forecasts_average       0.712238  \n",
       "wind_power_forecasts_std           -0.036585  \n",
       "solar_power_forecasts_std           0.926316  \n",
       "predicted_spot_price               -0.080565  \n",
       "interaction 1                      -0.062603  \n",
       "interaction 2                       1.000000  "
      ]
     },
     "execution_count": 57,
     "metadata": {},
     "output_type": "execute_result"
    }
   ],
   "source": [
    "X.corr()"
   ]
  },
  {
   "cell_type": "markdown",
   "id": "430e4ec6-ddae-4be7-b887-ea7ae2105b08",
   "metadata": {},
   "source": [
    "**Observations**\n",
    "\n",
    "- Une corrélation linéaire positive non négligeable entre la variable **load_forecast** et les variables **predicted_spot_price**, **nucelear_power_available**, **coal_power_available** et **gas_power_available** :\n",
    "\n",
    "Le signe indique qu'une augmentation de la demande d'électricité, toute chose égale par ailleurs entraine une augmentation de la capacité de production de charbon disponible de charbon, de gaz et nucléaire.\n",
    "\n",
    "- Une corrélation linéaire positive non négilgeable entre la variable **wind_power_average** et les variables **coal_power_available**, **gas_power_available**, **nucelear_power_available**:\n",
    "\n",
    "  Le signe indique qu'une augmentation de la prévision de la production d'électricité éolienne entraine une augmentation la capacité de production de charbon, de gaz et d'électricité nucléaire.\n",
    "\n",
    "- Une corrélation linéaire positive non négilgeable entre la variable **wind_power_forecast_average** et la variable **solar_power_forecasts_average**:\n",
    "\n",
    "Le signe indique qu'une augmentation de la moyenne des prévisions de la production d'électricité éolienne entraine un dimunition de la moyenne des prévisions de la productions d'électricité solaire.\n",
    "\n",
    "- La corrélation linéaire positive entre **wind_power_forecasts_average** et **wind_power_forecasts_std** indique que plus les prévisions augmentent, plus leur variabilité augmente.\n",
    "\n",
    "- La corrélation linéaire négative entre la variable **solar_power_forecast_average** et les variables **coal_power_available**, **gas_power_available**, **nucelear_power_available** indique qu'une augmentation de la prévision moyenne d'électricité solaire entraine une diminution de la capacité de production de charbon, de gaz et de nucléaire.\n",
    "\n",
    "  "
   ]
  },
  {
   "cell_type": "markdown",
   "id": "b591f17e-1e80-4861-a101-294276277808",
   "metadata": {},
   "source": [
    "**Graphiques pertinents**"
   ]
  },
  {
   "cell_type": "code",
   "execution_count": null,
   "id": "c728b093-be2b-4b26-bc3c-9d4eb4b0f6e2",
   "metadata": {},
   "outputs": [],
   "source": [
    "----------------4 graphiques max à mettre------------------------------"
   ]
  },
  {
   "cell_type": "markdown",
   "id": "d178b348-2861-4d7d-a67d-ad722b7b272a",
   "metadata": {},
   "source": [
    "### 1.2 Traitements des données"
   ]
  },
  {
   "cell_type": "markdown",
   "id": "2bd0c581-7fdf-4dc1-b646-5a93e4ed4d38",
   "metadata": {},
   "source": [
    "#### 1.2.0 Conversion de la variable **DELIVERY_START**"
   ]
  },
  {
   "cell_type": "markdown",
   "id": "1fb5c7cd-682c-4a36-81e8-75f02692f2d6",
   "metadata": {},
   "source": [
    "Tout d'abord, on convertit la variables  DELIVERY_START en secondes écoulées depuis le 15/08/2002."
   ]
  },
  {
   "cell_type": "code",
   "execution_count": 59,
   "id": "389c91a0-e647-4777-b7d7-8426e695e357",
   "metadata": {},
   "outputs": [
    {
     "data": {
      "text/html": [
       "<div>\n",
       "<style scoped>\n",
       "    .dataframe tbody tr th:only-of-type {\n",
       "        vertical-align: middle;\n",
       "    }\n",
       "\n",
       "    .dataframe tbody tr th {\n",
       "        vertical-align: top;\n",
       "    }\n",
       "\n",
       "    .dataframe thead th {\n",
       "        text-align: right;\n",
       "    }\n",
       "</style>\n",
       "<table border=\"1\" class=\"dataframe\">\n",
       "  <thead>\n",
       "    <tr style=\"text-align: right;\">\n",
       "      <th></th>\n",
       "      <th>DELIVERY_START</th>\n",
       "      <th>load_forecast</th>\n",
       "      <th>coal_power_available</th>\n",
       "      <th>gas_power_available</th>\n",
       "      <th>nucelear_power_available</th>\n",
       "      <th>wind_power_forecasts_average</th>\n",
       "      <th>solar_power_forecasts_average</th>\n",
       "      <th>wind_power_forecasts_std</th>\n",
       "      <th>solar_power_forecasts_std</th>\n",
       "      <th>predicted_spot_price</th>\n",
       "      <th>interaction 1</th>\n",
       "      <th>interaction 2</th>\n",
       "      <th>seconds</th>\n",
       "    </tr>\n",
       "  </thead>\n",
       "  <tbody>\n",
       "    <tr>\n",
       "      <th>0</th>\n",
       "      <td>2022-01-01 01:00:00+00:00</td>\n",
       "      <td>49439.0</td>\n",
       "      <td>3386.0</td>\n",
       "      <td>11487.0</td>\n",
       "      <td>44118.0</td>\n",
       "      <td>3035.0</td>\n",
       "      <td>0.0</td>\n",
       "      <td>79.248348</td>\n",
       "      <td>0.000000</td>\n",
       "      <td>NaN</td>\n",
       "      <td>2.405187e+05</td>\n",
       "      <td>0.000000</td>\n",
       "      <td>611629200</td>\n",
       "    </tr>\n",
       "    <tr>\n",
       "      <th>1</th>\n",
       "      <td>2022-01-01 02:00:00+00:00</td>\n",
       "      <td>46511.0</td>\n",
       "      <td>3386.0</td>\n",
       "      <td>11487.0</td>\n",
       "      <td>44118.0</td>\n",
       "      <td>3143.0</td>\n",
       "      <td>0.0</td>\n",
       "      <td>61.776532</td>\n",
       "      <td>0.000000</td>\n",
       "      <td>NaN</td>\n",
       "      <td>1.941636e+05</td>\n",
       "      <td>0.000000</td>\n",
       "      <td>611632800</td>\n",
       "    </tr>\n",
       "    <tr>\n",
       "      <th>2</th>\n",
       "      <td>2022-01-01 03:00:00+00:00</td>\n",
       "      <td>45158.0</td>\n",
       "      <td>3386.0</td>\n",
       "      <td>11487.0</td>\n",
       "      <td>44118.0</td>\n",
       "      <td>3288.0</td>\n",
       "      <td>0.0</td>\n",
       "      <td>44.291112</td>\n",
       "      <td>0.000000</td>\n",
       "      <td>NaN</td>\n",
       "      <td>1.456292e+05</td>\n",
       "      <td>0.000000</td>\n",
       "      <td>611636400</td>\n",
       "    </tr>\n",
       "    <tr>\n",
       "      <th>3</th>\n",
       "      <td>2022-01-01 04:00:00+00:00</td>\n",
       "      <td>44779.0</td>\n",
       "      <td>3386.0</td>\n",
       "      <td>11487.0</td>\n",
       "      <td>44118.0</td>\n",
       "      <td>3447.0</td>\n",
       "      <td>0.0</td>\n",
       "      <td>36.127588</td>\n",
       "      <td>0.000000</td>\n",
       "      <td>NaN</td>\n",
       "      <td>1.245318e+05</td>\n",
       "      <td>0.000000</td>\n",
       "      <td>611640000</td>\n",
       "    </tr>\n",
       "    <tr>\n",
       "      <th>4</th>\n",
       "      <td>2022-01-01 05:00:00+00:00</td>\n",
       "      <td>45284.0</td>\n",
       "      <td>3386.0</td>\n",
       "      <td>11487.0</td>\n",
       "      <td>44118.0</td>\n",
       "      <td>3679.0</td>\n",
       "      <td>0.0</td>\n",
       "      <td>30.983023</td>\n",
       "      <td>0.000000</td>\n",
       "      <td>NaN</td>\n",
       "      <td>1.139865e+05</td>\n",
       "      <td>0.000000</td>\n",
       "      <td>611643600</td>\n",
       "    </tr>\n",
       "    <tr>\n",
       "      <th>...</th>\n",
       "      <td>...</td>\n",
       "      <td>...</td>\n",
       "      <td>...</td>\n",
       "      <td>...</td>\n",
       "      <td>...</td>\n",
       "      <td>...</td>\n",
       "      <td>...</td>\n",
       "      <td>...</td>\n",
       "      <td>...</td>\n",
       "      <td>...</td>\n",
       "      <td>...</td>\n",
       "      <td>...</td>\n",
       "      <td>...</td>\n",
       "    </tr>\n",
       "    <tr>\n",
       "      <th>10600</th>\n",
       "      <td>2023-03-29 17:00:00+00:00</td>\n",
       "      <td>50814.0</td>\n",
       "      <td>3386.0</td>\n",
       "      <td>11952.0</td>\n",
       "      <td>38320.0</td>\n",
       "      <td>7552.0</td>\n",
       "      <td>651.0</td>\n",
       "      <td>247.408490</td>\n",
       "      <td>7.821622</td>\n",
       "      <td>108.11</td>\n",
       "      <td>1.868429e+06</td>\n",
       "      <td>5091.876216</td>\n",
       "      <td>650739600</td>\n",
       "    </tr>\n",
       "    <tr>\n",
       "      <th>10601</th>\n",
       "      <td>2023-03-29 18:00:00+00:00</td>\n",
       "      <td>50628.0</td>\n",
       "      <td>3386.0</td>\n",
       "      <td>11952.0</td>\n",
       "      <td>38320.0</td>\n",
       "      <td>8338.0</td>\n",
       "      <td>109.0</td>\n",
       "      <td>155.795012</td>\n",
       "      <td>2.534054</td>\n",
       "      <td>125.66</td>\n",
       "      <td>1.299019e+06</td>\n",
       "      <td>276.211862</td>\n",
       "      <td>650743200</td>\n",
       "    </tr>\n",
       "    <tr>\n",
       "      <th>10602</th>\n",
       "      <td>2023-03-29 19:00:00+00:00</td>\n",
       "      <td>48201.0</td>\n",
       "      <td>3386.0</td>\n",
       "      <td>11952.0</td>\n",
       "      <td>38320.0</td>\n",
       "      <td>9115.0</td>\n",
       "      <td>0.0</td>\n",
       "      <td>126.884684</td>\n",
       "      <td>0.000000</td>\n",
       "      <td>138.01</td>\n",
       "      <td>1.156554e+06</td>\n",
       "      <td>0.000000</td>\n",
       "      <td>650746800</td>\n",
       "    </tr>\n",
       "    <tr>\n",
       "      <th>10603</th>\n",
       "      <td>2023-03-29 20:00:00+00:00</td>\n",
       "      <td>47967.0</td>\n",
       "      <td>3386.0</td>\n",
       "      <td>11952.0</td>\n",
       "      <td>38320.0</td>\n",
       "      <td>9636.0</td>\n",
       "      <td>0.0</td>\n",
       "      <td>156.669189</td>\n",
       "      <td>0.000000</td>\n",
       "      <td>136.74</td>\n",
       "      <td>1.509664e+06</td>\n",
       "      <td>0.000000</td>\n",
       "      <td>650750400</td>\n",
       "    </tr>\n",
       "    <tr>\n",
       "      <th>10604</th>\n",
       "      <td>2023-03-29 21:00:00+00:00</td>\n",
       "      <td>48444.0</td>\n",
       "      <td>3386.0</td>\n",
       "      <td>11952.0</td>\n",
       "      <td>38320.0</td>\n",
       "      <td>10140.0</td>\n",
       "      <td>0.0</td>\n",
       "      <td>204.124773</td>\n",
       "      <td>0.000000</td>\n",
       "      <td>120.32</td>\n",
       "      <td>2.069825e+06</td>\n",
       "      <td>0.000000</td>\n",
       "      <td>650754000</td>\n",
       "    </tr>\n",
       "  </tbody>\n",
       "</table>\n",
       "<p>10605 rows × 13 columns</p>\n",
       "</div>"
      ],
      "text/plain": [
       "                 DELIVERY_START  load_forecast  coal_power_available  \\\n",
       "0     2022-01-01 01:00:00+00:00        49439.0                3386.0   \n",
       "1     2022-01-01 02:00:00+00:00        46511.0                3386.0   \n",
       "2     2022-01-01 03:00:00+00:00        45158.0                3386.0   \n",
       "3     2022-01-01 04:00:00+00:00        44779.0                3386.0   \n",
       "4     2022-01-01 05:00:00+00:00        45284.0                3386.0   \n",
       "...                         ...            ...                   ...   \n",
       "10600 2023-03-29 17:00:00+00:00        50814.0                3386.0   \n",
       "10601 2023-03-29 18:00:00+00:00        50628.0                3386.0   \n",
       "10602 2023-03-29 19:00:00+00:00        48201.0                3386.0   \n",
       "10603 2023-03-29 20:00:00+00:00        47967.0                3386.0   \n",
       "10604 2023-03-29 21:00:00+00:00        48444.0                3386.0   \n",
       "\n",
       "       gas_power_available  nucelear_power_available  \\\n",
       "0                  11487.0                   44118.0   \n",
       "1                  11487.0                   44118.0   \n",
       "2                  11487.0                   44118.0   \n",
       "3                  11487.0                   44118.0   \n",
       "4                  11487.0                   44118.0   \n",
       "...                    ...                       ...   \n",
       "10600              11952.0                   38320.0   \n",
       "10601              11952.0                   38320.0   \n",
       "10602              11952.0                   38320.0   \n",
       "10603              11952.0                   38320.0   \n",
       "10604              11952.0                   38320.0   \n",
       "\n",
       "       wind_power_forecasts_average  solar_power_forecasts_average  \\\n",
       "0                            3035.0                            0.0   \n",
       "1                            3143.0                            0.0   \n",
       "2                            3288.0                            0.0   \n",
       "3                            3447.0                            0.0   \n",
       "4                            3679.0                            0.0   \n",
       "...                             ...                            ...   \n",
       "10600                        7552.0                          651.0   \n",
       "10601                        8338.0                          109.0   \n",
       "10602                        9115.0                            0.0   \n",
       "10603                        9636.0                            0.0   \n",
       "10604                       10140.0                            0.0   \n",
       "\n",
       "       wind_power_forecasts_std  solar_power_forecasts_std  \\\n",
       "0                     79.248348                   0.000000   \n",
       "1                     61.776532                   0.000000   \n",
       "2                     44.291112                   0.000000   \n",
       "3                     36.127588                   0.000000   \n",
       "4                     30.983023                   0.000000   \n",
       "...                         ...                        ...   \n",
       "10600                247.408490                   7.821622   \n",
       "10601                155.795012                   2.534054   \n",
       "10602                126.884684                   0.000000   \n",
       "10603                156.669189                   0.000000   \n",
       "10604                204.124773                   0.000000   \n",
       "\n",
       "       predicted_spot_price  interaction 1  interaction 2    seconds  \n",
       "0                       NaN   2.405187e+05       0.000000  611629200  \n",
       "1                       NaN   1.941636e+05       0.000000  611632800  \n",
       "2                       NaN   1.456292e+05       0.000000  611636400  \n",
       "3                       NaN   1.245318e+05       0.000000  611640000  \n",
       "4                       NaN   1.139865e+05       0.000000  611643600  \n",
       "...                     ...            ...            ...        ...  \n",
       "10600                108.11   1.868429e+06    5091.876216  650739600  \n",
       "10601                125.66   1.299019e+06     276.211862  650743200  \n",
       "10602                138.01   1.156554e+06       0.000000  650746800  \n",
       "10603                136.74   1.509664e+06       0.000000  650750400  \n",
       "10604                120.32   2.069825e+06       0.000000  650754000  \n",
       "\n",
       "[10605 rows x 13 columns]"
      ]
     },
     "execution_count": 59,
     "metadata": {},
     "output_type": "execute_result"
    }
   ],
   "source": [
    "X['seconds'] = (X['DELIVERY_START'] - pd.Timestamp(\"2002-08-15 00:00:00+00\")) // pd.Timedelta('1s')\n",
    "X"
   ]
  },
  {
   "cell_type": "markdown",
   "id": "8b69d10e-85ee-44a2-924e-5e54fe4fe91f",
   "metadata": {},
   "source": [
    "#### 1.2.1 Imputation de load_forecast"
   ]
  },
  {
   "cell_type": "markdown",
   "id": "9b6dead1-bf5a-4e2b-aa64-73651e295b80",
   "metadata": {},
   "source": [
    "Dans un premier temps, on supprime toutes les lignes qui contiennent des valeurs na:\n"
   ]
  },
  {
   "cell_type": "code",
   "execution_count": 61,
   "id": "b3d4df56-a114-4837-8cf6-3ec60dec0b22",
   "metadata": {},
   "outputs": [],
   "source": [
    "X_0= X.dropna().drop(columns= ['load_forecast','DELIVERY_START'])\n",
    "y_0= X.dropna()['load_forecast']"
   ]
  },
  {
   "cell_type": "markdown",
   "id": "6d3cd05a-58bf-4bef-b570-ce3ad8282a34",
   "metadata": {},
   "source": [
    "Ensuite, on normalise X_0:  (peut etre pas)"
   ]
  },
  {
   "cell_type": "code",
   "execution_count": null,
   "id": "74021c21-99fd-4a2e-82eb-d85d851361e1",
   "metadata": {},
   "outputs": [],
   "source": [
    "from sklearn.preprocessing import RobustScaler\n",
    "\n",
    "scaler= RobustScaler()\n",
    "X_0= scaler.fit_transform(X_0)"
   ]
  },
  {
   "cell_type": "code",
   "execution_count": 67,
   "id": "41858fc7-defd-48a9-9cf1-d89fd479a31c",
   "metadata": {},
   "outputs": [],
   "source": [
    "from sklearn.model_selection import train_test_split\n",
    "\n",
    "X_0_train, X_0_test, y_0_train, y_0_test= train_test_split(X_0, y_0, train_size= .80, random_state= 1)"
   ]
  },
  {
   "cell_type": "markdown",
   "id": "8e5b23b2-4d5f-4dd2-a93a-30db6e479610",
   "metadata": {},
   "source": [
    "Ensuite à l'aide de l'algorithme ***XGBOOST***, qu'on entraine sur les valeurs connues, on prédit les valeurs manquantes:"
   ]
  },
  {
   "cell_type": "code",
   "execution_count": null,
   "id": "1772595c-946a-4dd5-bb76-a56441754ae6",
   "metadata": {},
   "outputs": [],
   "source": [
    "***Entrainement et cross-validation***"
   ]
  },
  {
   "cell_type": "code",
   "execution_count": 79,
   "id": "432c2ff1-0e26-4c77-863b-6def06ab45e5",
   "metadata": {},
   "outputs": [
    {
     "name": "stdout",
     "output_type": "stream",
     "text": [
      "Les meilleurs hyperparamètres sont: {'learning_rate': 0.2, 'max_depth': 2, 'min_child_weight': 3, 'n_estimators': 550}\n",
      "Le score de validation du meilleur modèle est: 0.9367571799660978\n",
      "Le score sur le train est:  0.9747400990144521\n",
      "Le score sur le test est:  0.9371162693850772\n"
     ]
    }
   ],
   "source": [
    "from xgboost import XGBRegressor\n",
    "from sklearn.model_selection import GridSearchCV\n",
    "\n",
    "model0= XGBRegressor()\n",
    "param_grid0= {'n_estimators': [50, 100, 250, 500, 550, 600, 650], 'learning_rate': [0.01, 0.1, 0.2], 'max_depth': [1,2,3,4], 'min_child_weight': [1,2,3]}\n",
    "grid_search= GridSearchCV(model0, param_grid= param_grid0, cv= 5)\n",
    "\n",
    "grid_search.fit(X_0_train, y_0_train)\n",
    "\n",
    "print(\"Les meilleurs hyperparamètres sont: \"+ str(grid_search.best_params_))\n",
    "print(\"Le score de validation du meilleur modèle est: \"+ str(grid_search.best_score_))\n",
    "\n",
    "model0_final= grid_search.best_estimator_\n",
    "model0_final.fit(X_0_train, y_0_train)\n",
    "\n",
    "\n",
    "print(\"Le score sur le train est: \", str(model0_final.score(X_0_train, y_0_train)))\n",
    "print(\"Le score sur le test est: \", str(model0_final.score(X_0_test, y_0_test)))\n",
    "\n",
    "\n"
   ]
  },
  {
   "cell_type": "markdown",
   "id": "da6e4d40-d06d-4964-ba4b-45ee5639c7db",
   "metadata": {},
   "source": [
    "On peut représenter l'importance des variables sur le modèle."
   ]
  },
  {
   "cell_type": "code",
   "execution_count": 81,
   "id": "9a4eed6a-49dd-429e-8d20-c60f7192000e",
   "metadata": {},
   "outputs": [
    {
     "data": {
      "image/png": "[encoded data removed]",
      "text/plain": [
       "<Figure size 640x480 with 1 Axes>"
      ]
     },
     "metadata": {},
     "output_type": "display_data"
    }
   ],
   "source": [
    "from xgboost import plot_importance\n",
    "import matplotlib.pyplot as plt\n",
    "\n",
    "plot_importance(model0_final)\n",
    "plt.show()\n"
   ]
  },
  {
   "cell_type": "markdown",
   "id": "96d9beba-9863-4821-9227-1e0d7c873a55",
   "metadata": {},
   "source": [
    "Maintenant que nous avons entrainer le modèle, nous pouvons prédire et imputer les valeurs manquantes par les prédictions obtenus:"
   ]
  },
  {
   "cell_type": "code",
   "execution_count": 83,
   "id": "ae152ede-edba-43e4-822f-b47a4adf9405",
   "metadata": {},
   "outputs": [],
   "source": [
    "ind0= X['load_forecast'].isnull()\n",
    "predictions0= model0_final.predict(X.loc[ind0, :].drop(columns=['load_forecast', 'DELIVERY_START']))\n",
    "X.loc[ind0,'load_forecast']= predictions0"
   ]
  },
  {
   "cell_type": "markdown",
   "id": "ba6a2dad-221d-461b-b0d9-edfcc2fc2ac1",
   "metadata": {},
   "source": [
    "On vérifie bien que la variable **load_forecast** ne contient plus de variables manquantes:"
   ]
  },
  {
   "cell_type": "code",
   "execution_count": 87,
   "id": "281c43b3-a0ca-4659-af72-9eef41bd4b8d",
   "metadata": {},
   "outputs": [
    {
     "data": {
      "text/plain": [
       "DELIVERY_START                   0.000000\n",
       "load_forecast                    0.000000\n",
       "coal_power_available             0.000094\n",
       "gas_power_available              0.000094\n",
       "nucelear_power_available         0.000094\n",
       "wind_power_forecasts_average     0.002263\n",
       "solar_power_forecasts_average    0.002263\n",
       "wind_power_forecasts_std         0.002263\n",
       "solar_power_forecasts_std        0.002263\n",
       "predicted_spot_price             0.825931\n",
       "interaction 1                    0.002263\n",
       "interaction 2                    0.002263\n",
       "seconds                          0.000000\n",
       "dtype: float64"
      ]
     },
     "execution_count": 87,
     "metadata": {},
     "output_type": "execute_result"
    }
   ],
   "source": [
    "X.isnull().sum()/len(X)"
   ]
  },
  {
   "cell_type": "markdown",
   "id": "d147ab3c-5d17-4cb0-950a-a53c684cf7f5",
   "metadata": {},
   "source": [
    "On passe maintenant à l'imputation des valeurs."
   ]
  },
  {
   "cell_type": "markdown",
   "id": "892d2d42-6207-4126-a727-79b95c650dc2",
   "metadata": {},
   "source": [
    "#### 1.2.2 Imputation de predicted_spot_price"
   ]
  },
  {
   "cell_type": "markdown",
   "id": "9ca9ebb6-810f-4465-bc73-cdd32340aaaf",
   "metadata": {},
   "source": [
    "On a observé ci-dessus, une forte corrélation linéaire entre la variable **load_forecast** et la variable **predicted_spot_price**.\n",
    "Dans un premier temps, on commence par ajuster à l'aide d'un xgboost en utilisant uniquement comme variable cible les valeurs réellement pour **predicted_spot_price**: Les variables explicatives correspondantes sont celles qui sont associés aux valeurs réellement observés pour **predicted_spot_price**."
   ]
  },
  {
   "cell_type": "code",
   "execution_count": 89,
   "id": "9a2a5d45-24de-4a70-9a20-12fd7917d3c9",
   "metadata": {},
   "outputs": [],
   "source": [
    "ind1= X['predicted_spot_price'].notnull() # On utilise uniquement les valeurs observées \n",
    "X_1= X.loc[ind1, :].drop(columns=['DELIVERY_START','predicted_spot_price'])\n",
    "y_1= X.loc[ind1, :]['predicted_spot_price']"
   ]
  },
  {
   "cell_type": "code",
   "execution_count": 91,
   "id": "1f25d9f6-6cdc-4b1f-b301-34a5fd521db3",
   "metadata": {},
   "outputs": [],
   "source": [
    "X_1_train, X_1_test, y_1_train, y_1_test= train_test_split(X_1, y_1, train_size= 0.8, random_state= 7)"
   ]
  },
  {
   "cell_type": "code",
   "execution_count": 93,
   "id": "1eaef38d-07bc-46de-9763-2db4d898fbbc",
   "metadata": {},
   "outputs": [
    {
     "name": "stdout",
     "output_type": "stream",
     "text": [
      "Le score obtenu sur le train est: 0.9969025105617659\n",
      "Le score obtenu sur le test est: 0.8877686119335201\n"
     ]
    }
   ],
   "source": [
    "from xgboost import XGBRegressor\n",
    "\n",
    "model1= XGBRegressor()\n",
    "model1.fit(X_1_train, y_1_train)\n",
    "print(\"Le score obtenu sur le train est: \" +str(model1.score(X_1_train, y_1_train)))\n",
    "print(\"Le score obtenu sur le test est: \" +str(model1.score(X_1_test, y_1_test)))"
   ]
  },
  {
   "cell_type": "markdown",
   "id": "df6279d3-4ac3-44c7-b406-c4706a7b0579",
   "metadata": {},
   "source": [
    "On peut faire mieux ! On va passer à l'étape de la validation croisée."
   ]
  },
  {
   "cell_type": "markdown",
   "id": "1276059f-9ce7-41cc-aa55-871223fb3b6e",
   "metadata": {},
   "source": [
    "**Validation-croisée**"
   ]
  },
  {
   "cell_type": "code",
   "execution_count": 113,
   "id": "abe42050-c079-4f10-8428-ae30ca998877",
   "metadata": {},
   "outputs": [
    {
     "name": "stdout",
     "output_type": "stream",
     "text": [
      "Les meilleurs hyperparamètres sont: {'learning_rate': 0.15, 'max_depth': 3, 'min_child_weight': 1, 'n_estimators': 650}\n",
      "Le score de validation du meilleur modèle est: 0.8742313225305409\n",
      "Le score sur le train est:  0.9459206502038043\n",
      "Le score sur le test est:  0.903991937876913\n"
     ]
    }
   ],
   "source": [
    "model1= XGBRegressor()\n",
    "param_grid1= {'n_estimators': [50,100,300,600,650], 'learning_rate': [0.01,0.1, 0.15, 0.2], 'max_depth': [1,2,3,5], 'min_child_weight': [1,2,3]}\n",
    "grid_search1= GridSearchCV(model1, param_grid= param_grid1, cv= 6)\n",
    "\n",
    "grid_search1.fit(X_1_train, y_1_train)\n",
    "\n",
    "print(\"Les meilleurs hyperparamètres sont: \"+ str(grid_search1.best_params_))\n",
    "print(\"Le score de validation du meilleur modèle est: \"+ str(grid_search1.best_score_))\n",
    "\n",
    "model1_final= grid_search1.best_estimator_\n",
    "model1_final.fit(X_1_train, y_1_train)\n",
    "\n",
    "\n",
    "print(\"Le score sur le train est: \", str(model0_final.score(X_1_train, y_1_train)))\n",
    "print(\"Le score sur le test est: \", str(model0_final.score(X_1_test, y_1_test)))\n",
    "\n",
    "\n"
   ]
  },
  {
   "cell_type": "markdown",
   "id": "89b08283-17f0-4b8d-a64f-f8e9a7382c4d",
   "metadata": {},
   "source": [
    "**Importance des variables**"
   ]
  },
  {
   "cell_type": "code",
   "execution_count": 115,
   "id": "8558f52d-2a0d-4555-bc08-05b0f3abe8c5",
   "metadata": {},
   "outputs": [
    {
     "data": {
      "text/plain": [
       "<Figure size 640x480 with 0 Axes>"
      ]
     },
     "metadata": {},
     "output_type": "display_data"
    },
    {
     "data": {
      "image/png": "[encoded data removed]",
      "text/plain": [
       "<Figure size 640x480 with 1 Axes>"
      ]
     },
     "metadata": {},
     "output_type": "display_data"
    }
   ],
   "source": [
    "plt.figure()\n",
    "plot_importance(model1_final)\n",
    "plt.show()"
   ]
  },
  {
   "cell_type": "markdown",
   "id": "45258d79-5d46-423d-b93e-f757a42f36b4",
   "metadata": {},
   "source": [
    "#### 1.2.3 Imputation des autres variables et normalisation"
   ]
  },
  {
   "cell_type": "code",
   "execution_count": 117,
   "id": "467536ea-a4cf-4b7c-8862-526490fb5f78",
   "metadata": {},
   "outputs": [],
   "source": [
    "ind1= X['predicted_spot_price'].isnull()\n",
    "predictions1= model1_final.predict(X.loc[ind1, :].drop(columns=['predicted_spot_price', 'DELIVERY_START']))\n",
    "X.loc[ind1,'predicted_spot_price']= predictions1\n",
    "X= X.drop(columns= ['DELIVERY_START'])"
   ]
  },
  {
   "cell_type": "code",
   "execution_count": 119,
   "id": "7692646c-af48-40de-a6c9-2dbb96268201",
   "metadata": {},
   "outputs": [
    {
     "data": {
      "text/plain": [
       "load_forecast                    0.000000\n",
       "coal_power_available             0.000094\n",
       "gas_power_available              0.000094\n",
       "nucelear_power_available         0.000094\n",
       "wind_power_forecasts_average     0.002263\n",
       "solar_power_forecasts_average    0.002263\n",
       "wind_power_forecasts_std         0.002263\n",
       "solar_power_forecasts_std        0.002263\n",
       "predicted_spot_price             0.000000\n",
       "interaction 1                    0.002263\n",
       "interaction 2                    0.002263\n",
       "seconds                          0.000000\n",
       "dtype: float64"
      ]
     },
     "execution_count": 119,
     "metadata": {},
     "output_type": "execute_result"
    }
   ],
   "source": [
    "X.isnull().sum()/len(X)"
   ]
  },
  {
   "cell_type": "code",
   "execution_count": 121,
   "id": "90d3b1c6-933a-444c-bba5-9706c2745103",
   "metadata": {},
   "outputs": [],
   "source": [
    "from sklearn.impute import SimpleImputer\n",
    "\n",
    "imputer= SimpleImputer(strategy= 'median')\n",
    "\n",
    "X_final = imputer.fit_transform(X)"
   ]
  },
  {
   "cell_type": "markdown",
   "id": "b23841b3-fcaf-4c85-a6e9-09237ded5c96",
   "metadata": {},
   "source": [
    "## 2. Recherche du meilleur modèle de prédiction XGBOOST"
   ]
  },
  {
   "cell_type": "markdown",
   "id": "0e824637-7076-4716-aff1-7e5b973ec56c",
   "metadata": {},
   "source": [
    "**Entrainement**"
   ]
  },
  {
   "cell_type": "code",
   "execution_count": 123,
   "id": "9a0d73c6-86d4-41bf-9c63-a75952921add",
   "metadata": {},
   "outputs": [],
   "source": [
    "y_final= y['spot_id_delta']"
   ]
  },
  {
   "cell_type": "code",
   "execution_count": 125,
   "id": "e64e8398-3b31-4129-bbd6-aa6458dbdae3",
   "metadata": {},
   "outputs": [],
   "source": [
    "X_train, X_test, y_train, y_test= train_test_split(X_final, y_final, train_size= 0.8, shuffle= True, random_state= 170)"
   ]
  },
  {
   "cell_type": "code",
   "execution_count": 191,
   "id": "92982a2f-288f-49f2-9891-0ac6d6d6761f",
   "metadata": {},
   "outputs": [
    {
     "name": "stdout",
     "output_type": "stream",
     "text": [
      "0.8962735834174672\n",
      "0.6132173881920022\n"
     ]
    }
   ],
   "source": [
    "X_train, X_test, y_train, y_test= train_test_split(X_final, y_final, train_size= 0.8, shuffle= True, random_state= 12) \n",
    "model= XGBRegressor(n_estimators= 317, learning_rate= 0.011, max_depth= 40, min_child_weight= 4)\n",
    "model.fit(X_train, y_train)\n",
    "print(model.score(X_train, y_train))\n",
    "print(model.score(X_test, y_test))"
   ]
  },
  {
   "cell_type": "code",
   "execution_count": 193,
   "id": "5d5d187f-3912-4e4a-8d46-83bef9b563b1",
   "metadata": {},
   "outputs": [
    {
     "data": {
      "text/plain": [
       "<matplotlib.legend.Legend at 0x744b3196bc80>"
      ]
     },
     "execution_count": 193,
     "metadata": {},
     "output_type": "execute_result"
    },
    {
     "data": {
      "image/png": "[encoded data removed]",
      "text/plain": [
       "<Figure size 640x480 with 1 Axes>"
      ]
     },
     "metadata": {},
     "output_type": "display_data"
    }
   ],
   "source": [
    "plt.figure()\n",
    "plt.plot(np.arange(len(y_test)),y_test, color= 'red', label= 'Observation')\n",
    "plt.plot(np.arange(len(y_test)),model.predict(X_test), label= 'Prédiction')\n",
    "plt.legend()"
   ]
  },
  {
   "cell_type": "code",
   "execution_count": 195,
   "id": "1445d70c-821b-418f-b20c-e7b35cd94ea9",
   "metadata": {},
   "outputs": [
    {
     "data": {
      "text/plain": [
       "<Axes: title={'center': 'Feature importance'}, xlabel='F score', ylabel='Features'>"
      ]
     },
     "execution_count": 195,
     "metadata": {},
     "output_type": "execute_result"
    },
    {
     "data": {
      "image/png": "[encoded data removed]",
      "text/plain": [
       "<Figure size 640x480 with 1 Axes>"
      ]
     },
     "metadata": {},
     "output_type": "display_data"
    }
   ],
   "source": [
    "plot_importance(model)"
   ]
  },
  {
   "cell_type": "markdown",
   "id": "728f1acf-8c51-4bce-85b0-0da7ad354c7f",
   "metadata": {},
   "source": [
    "**Prediction**"
   ]
  },
  {
   "cell_type": "code",
   "execution_count": 197,
   "id": "08e79c57-aea3-45e6-bfba-734d14312bb4",
   "metadata": {},
   "outputs": [
    {
     "name": "stdout",
     "output_type": "stream",
     "text": [
      "load_forecast                    0.000000\n",
      "coal_power_available             0.000000\n",
      "gas_power_available              0.000000\n",
      "nucelear_power_available         0.000000\n",
      "wind_power_forecasts_average     0.000000\n",
      "solar_power_forecasts_average    0.004856\n",
      "wind_power_forecasts_std         0.000000\n",
      "solar_power_forecasts_std        0.004856\n",
      "predicted_spot_price             0.310805\n",
      "interaction 1                    0.000000\n",
      "interaction 2                    0.004856\n",
      "seconds                          0.000000\n",
      "dtype: float64\n"
     ]
    }
   ],
   "source": [
    "entree= pd.read_csv('/home/paul/Downloads/X_test.csv')\n",
    "delivery_start= entree['DELIVERY_START']\n",
    "entree['DELIVERY_START']= pd.to_datetime(entree['DELIVERY_START'], utc= True)\n",
    "entree['interaction 1']= entree['wind_power_forecasts_average']*entree['wind_power_forecasts_std']\n",
    "entree['interaction 2']= entree['solar_power_forecasts_average']*entree['solar_power_forecasts_std']\n",
    "entree['seconds'] = (entree['DELIVERY_START'] - pd.Timestamp(\"2002-08-15 00:00:00+00\")) // pd.Timedelta('1s')\n",
    "entree= entree.drop(columns=['DELIVERY_START'])\n",
    "\n",
    "\n",
    "print(entree.isnull().sum()/len(entree))"
   ]
  },
  {
   "cell_type": "markdown",
   "id": "6d65f3e3-3374-4643-a1fb-3efe30d20590",
   "metadata": {},
   "source": [
    "Pour les données à prédire, il y a toujours le problème de valeurs manquantes.\n",
    "Nous avons tout d'abord les effectuer les memes transformations sur la variable d'entrée que sur les variables d'entrainement ensuite , nous allons imputer à l'aide des précédents modèles d'imputation: Ajout  des variables d'interaction, conversion de la variable **DELIVERY_START** secondes écoulée depuis le ...\n",
    "Comme stratégie, nous allons prédire les valeurs manquantes de la variable **predicted_spot_price** à l'aide des autres variables explicatives(meme si elle contiennent quelques valeurs manquantes,le xgboost étant peu sensible aux valeurs manquantes).\n",
    "Enfin, nous allons faire une simple imputation pour les autres valeurs manquantes en les remplacant par la mediane."
   ]
  },
  {
   "cell_type": "code",
   "execution_count": 199,
   "id": "55dc18b2-c2ab-46b0-abcb-67e81a1dc8ab",
   "metadata": {},
   "outputs": [],
   "source": [
    "ind_= entree['predicted_spot_price'].isnull()\n",
    "predictions2= model1_final.predict(entree.loc[ind_, :].drop(columns= ['predicted_spot_price']))\n",
    "entree.loc[ind_, 'predicted_spot_price']= predictions2"
   ]
  },
  {
   "cell_type": "code",
   "execution_count": 201,
   "id": "3bb9a410-d73e-4947-b433-9c330fdf3efc",
   "metadata": {},
   "outputs": [
    {
     "data": {
      "text/plain": [
       "load_forecast                     0\n",
       "coal_power_available              0\n",
       "gas_power_available               0\n",
       "nucelear_power_available          0\n",
       "wind_power_forecasts_average      0\n",
       "solar_power_forecasts_average    24\n",
       "wind_power_forecasts_std          0\n",
       "solar_power_forecasts_std        24\n",
       "predicted_spot_price              0\n",
       "interaction 1                     0\n",
       "interaction 2                    24\n",
       "seconds                           0\n",
       "dtype: int64"
      ]
     },
     "execution_count": 201,
     "metadata": {},
     "output_type": "execute_result"
    }
   ],
   "source": [
    "entree.isnull().sum()"
   ]
  },
  {
   "cell_type": "markdown",
   "id": "ee9bbd97-e337-4cd4-bcfc-c6746576468f",
   "metadata": {},
   "source": [
    "On a bel et bien imputé les valeurs manquantes de la variable **predicted_spot_price**.\n",
    "Ensuite pour les autres valeurs manquantes, on remplace par la médiane."
   ]
  },
  {
   "cell_type": "code",
   "execution_count": 203,
   "id": "b9460d63-e304-4277-adef-574a760f4df8",
   "metadata": {},
   "outputs": [],
   "source": [
    "imputer2= SimpleImputer(strategy= 'median')\n",
    "entree_final= imputer2.fit_transform(entree)"
   ]
  },
  {
   "cell_type": "markdown",
   "id": "a2cbb362-6290-49dc-a259-5d6bb8b67cf5",
   "metadata": {},
   "source": [
    "Ensuite, on peut passer à la prédiction."
   ]
  },
  {
   "cell_type": "code",
   "execution_count": 205,
   "id": "4305404f-b15d-4a1e-a610-c7364a04b8d0",
   "metadata": {},
   "outputs": [],
   "source": [
    "prediction= model.predict(entree_final)"
   ]
  },
  {
   "cell_type": "code",
   "execution_count": 209,
   "id": "acf6b94f-0bdc-47fd-b80e-5d011dc4e7bf",
   "metadata": {},
   "outputs": [],
   "source": [
    "data= {'DELIVERY_START': delivery_start , 'spot_id_delta': prediction}\n",
    "df_soumettre= pd.DataFrame(data= data, columns=['DELIVERY_START','spot_id_delta'])\n",
    "df_soumettre.to_csv('resultat2', index= False)"
   ]
  },
  {
   "cell_type": "code",
   "execution_count": 207,
   "id": "dd2f1e05-173a-4d72-a746-533f0674b4e6",
   "metadata": {},
   "outputs": [
    {
     "data": {
      "text/plain": [
       "2.0960224"
      ]
     },
     "execution_count": 207,
     "metadata": {},
     "output_type": "execute_result"
    }
   ],
   "source": [
    "prediction.mean()"
   ]
  }
 ],
 "metadata": {
  "kernelspec": {
   "display_name": "Python 3 (ipykernel)",
   "language": "python",
   "name": "python3"
  },
  "language_info": {
   "codemirror_mode": {
    "name": "ipython",
    "version": 3
   },
   "file_extension": ".py",
   "mimetype": "text/x-python",
   "name": "python",
   "nbconvert_exporter": "python",
   "pygments_lexer": "ipython3",
   "version": "3.12.7"
  }
 },
 "nbformat": 4,
 "nbformat_minor": 5
}
